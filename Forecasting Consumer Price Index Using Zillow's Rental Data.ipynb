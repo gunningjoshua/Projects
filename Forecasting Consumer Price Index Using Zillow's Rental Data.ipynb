{
 "cells": [
  {
   "cell_type": "markdown",
   "id": "be21f860",
   "metadata": {},
   "source": [
    "# Forecasting Consumer Price Index Using Zillow’s Rental Data\n",
    "**Author**: Joshua Gunning  \n",
    "**Course**: UC Berkeley | ECON 148 — Data Science for Economists  \n",
    "**Instructor**: Rohan Jha"
   ]
  },
  {
   "cell_type": "markdown",
   "id": "3ced227f",
   "metadata": {},
   "source": [
    "## Introduction\n",
    "\n",
    "With inflation affecting everything from groceries to rent, understanding how housing costs contribute to overall price levels has become more important than ever. During my time studying economics and data science, I became curious about how well real estate trends, particularly rental prices, could be used to forecast inflation indicators like the Consumer Price Index (CPI).\n",
    "\n",
    "This project explores the relationship between rental market trends and CPI using **time series analysis** techniques. By leveraging Zillow’s Observed Rent Index (ZORI), I build predictive models that estimate future CPI values and evaluate their accuracy.\n",
    "\n",
    "While ARIMA models are commonly used in time series forecasting, they assume that CPI evolves independently over time. However, economic indicators often interact with each other. To capture these interdependencies, I also apply the **Vector Autoregression (VAR)** model. VAR allows us to model multiple time series together and assess how rental trends and CPI influence one another over time.\n",
    "\n",
    "Throughout this project, I walk through each stage from preparing the data to evaluating the model to demonstrate how economic indicators can be predicted using real-world housing data.\n",
    "\n",
    "<hr style=\"border: 1px solid #fdb515;\" />\n",
    "\n",
    "## Project Objectives\n",
    "\n",
    "- **Data Preparation**: Clean and align Zillow’s ZORI and US CPI datasets  \n",
    "- **Exploratory Analysis**: Visualize trends and identify patterns in rent and CPI data  \n",
    "- **Time Series Modeling**: Use ARIMA and VAR models to forecast CPI based on rent trends  \n",
    "- **Model Evaluation**: Compare predictions to actual CPI values using RMSE  \n",
    "\n",
    "Let’s get started by loading and processing the datasets."
   ]
  },
  {
   "cell_type": "code",
   "execution_count": 1,
   "id": "4765c6e2",
   "metadata": {},
   "outputs": [],
   "source": [
    "import pandas as pd\n",
    "import numpy as np\n",
    "import seaborn as sns\n",
    "import matplotlib.pyplot as plt\n",
    "from scipy import stats\n",
    "%matplotlib inline\n",
    "import warnings\n",
    "warnings.filterwarnings(\"ignore\")"
   ]
  },
  {
   "cell_type": "markdown",
   "id": "aebadc1a",
   "metadata": {},
   "source": [
    "# Section 1: Data Processing\n",
    "<hr style=\"border: 5px solid #003262;\" />\n",
    "<hr style=\"border: 1px solid #fdb515;\" />\n",
    "\n",
    "\n",
    "## Zillow ZORI Data\n",
    "\n",
    "We begin by loading Zillow’s Observed Rent Index (ZORI) data from [Zillow Research Data](https://www.zillow.com/research/data/), which tracks the average monthly rent across various U.S. regions. For this project, we focus on the national-level time series, found in the row labeled “United States.”"
   ]
  },
  {
   "cell_type": "code",
   "execution_count": 2,
   "id": "4fe1a8a8",
   "metadata": {},
   "outputs": [
    {
     "data": {
      "text/html": [
       "<div>\n",
       "<style scoped>\n",
       "    .dataframe tbody tr th:only-of-type {\n",
       "        vertical-align: middle;\n",
       "    }\n",
       "\n",
       "    .dataframe tbody tr th {\n",
       "        vertical-align: top;\n",
       "    }\n",
       "\n",
       "    .dataframe thead th {\n",
       "        text-align: right;\n",
       "    }\n",
       "</style>\n",
       "<table border=\"1\" class=\"dataframe\">\n",
       "  <thead>\n",
       "    <tr style=\"text-align: right;\">\n",
       "      <th></th>\n",
       "      <th>RegionID</th>\n",
       "      <th>SizeRank</th>\n",
       "      <th>RegionName</th>\n",
       "      <th>RegionType</th>\n",
       "      <th>StateName</th>\n",
       "      <th>2015-03-31</th>\n",
       "      <th>2015-04-30</th>\n",
       "      <th>2015-05-31</th>\n",
       "      <th>2015-06-30</th>\n",
       "      <th>2015-07-31</th>\n",
       "      <th>...</th>\n",
       "      <th>2021-12-31</th>\n",
       "      <th>2022-01-31</th>\n",
       "      <th>2022-02-28</th>\n",
       "      <th>2022-03-31</th>\n",
       "      <th>2022-04-30</th>\n",
       "      <th>2022-05-31</th>\n",
       "      <th>2022-06-30</th>\n",
       "      <th>2022-07-31</th>\n",
       "      <th>2022-08-31</th>\n",
       "      <th>2022-09-30</th>\n",
       "    </tr>\n",
       "  </thead>\n",
       "  <tbody>\n",
       "    <tr>\n",
       "      <th>0</th>\n",
       "      <td>102001</td>\n",
       "      <td>0</td>\n",
       "      <td>United States</td>\n",
       "      <td>country</td>\n",
       "      <td>NaN</td>\n",
       "      <td>1370.301806</td>\n",
       "      <td>1381.971304</td>\n",
       "      <td>1392.389090</td>\n",
       "      <td>1403.203509</td>\n",
       "      <td>1408.901384</td>\n",
       "      <td>...</td>\n",
       "      <td>1928.945108</td>\n",
       "      <td>1937.304351</td>\n",
       "      <td>1955.272060</td>\n",
       "      <td>1971.256988</td>\n",
       "      <td>1997.731260</td>\n",
       "      <td>2019.752839</td>\n",
       "      <td>2044.662959</td>\n",
       "      <td>2065.275748</td>\n",
       "      <td>2078.546078</td>\n",
       "      <td>2084.084210</td>\n",
       "    </tr>\n",
       "    <tr>\n",
       "      <th>1</th>\n",
       "      <td>394913</td>\n",
       "      <td>1</td>\n",
       "      <td>New York, NY</td>\n",
       "      <td>msa</td>\n",
       "      <td>NY</td>\n",
       "      <td>2506.196326</td>\n",
       "      <td>2533.311441</td>\n",
       "      <td>2552.989317</td>\n",
       "      <td>2570.501028</td>\n",
       "      <td>2573.663435</td>\n",
       "      <td>...</td>\n",
       "      <td>2957.725252</td>\n",
       "      <td>2984.899451</td>\n",
       "      <td>3032.151836</td>\n",
       "      <td>3082.959790</td>\n",
       "      <td>3142.381057</td>\n",
       "      <td>3201.035347</td>\n",
       "      <td>3258.611614</td>\n",
       "      <td>3308.938574</td>\n",
       "      <td>3327.647323</td>\n",
       "      <td>3321.271717</td>\n",
       "    </tr>\n",
       "    <tr>\n",
       "      <th>2</th>\n",
       "      <td>753899</td>\n",
       "      <td>2</td>\n",
       "      <td>Los Angeles, CA</td>\n",
       "      <td>msa</td>\n",
       "      <td>CA</td>\n",
       "      <td>1977.874325</td>\n",
       "      <td>1990.644815</td>\n",
       "      <td>2004.443160</td>\n",
       "      <td>2016.922137</td>\n",
       "      <td>2031.255505</td>\n",
       "      <td>...</td>\n",
       "      <td>2808.206899</td>\n",
       "      <td>2825.516662</td>\n",
       "      <td>2850.339483</td>\n",
       "      <td>2881.506596</td>\n",
       "      <td>2919.113666</td>\n",
       "      <td>2953.089197</td>\n",
       "      <td>2978.850604</td>\n",
       "      <td>2999.777869</td>\n",
       "      <td>3013.211794</td>\n",
       "      <td>3019.026316</td>\n",
       "    </tr>\n",
       "    <tr>\n",
       "      <th>3</th>\n",
       "      <td>394463</td>\n",
       "      <td>3</td>\n",
       "      <td>Chicago, IL</td>\n",
       "      <td>msa</td>\n",
       "      <td>IL</td>\n",
       "      <td>1478.149264</td>\n",
       "      <td>1490.961012</td>\n",
       "      <td>1502.702134</td>\n",
       "      <td>1528.952557</td>\n",
       "      <td>1535.997197</td>\n",
       "      <td>...</td>\n",
       "      <td>1795.629571</td>\n",
       "      <td>1808.471849</td>\n",
       "      <td>1823.778075</td>\n",
       "      <td>1843.010280</td>\n",
       "      <td>1865.307537</td>\n",
       "      <td>1890.513951</td>\n",
       "      <td>1911.437953</td>\n",
       "      <td>1930.811578</td>\n",
       "      <td>1939.370439</td>\n",
       "      <td>1941.933786</td>\n",
       "    </tr>\n",
       "    <tr>\n",
       "      <th>4</th>\n",
       "      <td>394514</td>\n",
       "      <td>4</td>\n",
       "      <td>Dallas, TX</td>\n",
       "      <td>msa</td>\n",
       "      <td>TX</td>\n",
       "      <td>1180.713035</td>\n",
       "      <td>1191.112125</td>\n",
       "      <td>1202.397600</td>\n",
       "      <td>1209.409429</td>\n",
       "      <td>1216.117716</td>\n",
       "      <td>...</td>\n",
       "      <td>1724.699775</td>\n",
       "      <td>1736.260930</td>\n",
       "      <td>1747.886285</td>\n",
       "      <td>1758.449166</td>\n",
       "      <td>1780.575633</td>\n",
       "      <td>1807.486899</td>\n",
       "      <td>1842.009269</td>\n",
       "      <td>1866.378789</td>\n",
       "      <td>1876.715983</td>\n",
       "      <td>1875.844643</td>\n",
       "    </tr>\n",
       "    <tr>\n",
       "      <th>...</th>\n",
       "      <td>...</td>\n",
       "      <td>...</td>\n",
       "      <td>...</td>\n",
       "      <td>...</td>\n",
       "      <td>...</td>\n",
       "      <td>...</td>\n",
       "      <td>...</td>\n",
       "      <td>...</td>\n",
       "      <td>...</td>\n",
       "      <td>...</td>\n",
       "      <td>...</td>\n",
       "      <td>...</td>\n",
       "      <td>...</td>\n",
       "      <td>...</td>\n",
       "      <td>...</td>\n",
       "      <td>...</td>\n",
       "      <td>...</td>\n",
       "      <td>...</td>\n",
       "      <td>...</td>\n",
       "      <td>...</td>\n",
       "      <td>...</td>\n",
       "    </tr>\n",
       "    <tr>\n",
       "      <th>574</th>\n",
       "      <td>394322</td>\n",
       "      <td>861</td>\n",
       "      <td>Altus, OK</td>\n",
       "      <td>msa</td>\n",
       "      <td>OK</td>\n",
       "      <td>404.816596</td>\n",
       "      <td>NaN</td>\n",
       "      <td>417.170690</td>\n",
       "      <td>NaN</td>\n",
       "      <td>NaN</td>\n",
       "      <td>...</td>\n",
       "      <td>NaN</td>\n",
       "      <td>NaN</td>\n",
       "      <td>NaN</td>\n",
       "      <td>735.821384</td>\n",
       "      <td>732.921061</td>\n",
       "      <td>771.810020</td>\n",
       "      <td>755.232683</td>\n",
       "      <td>810.606473</td>\n",
       "      <td>750.000000</td>\n",
       "      <td>821.649685</td>\n",
       "    </tr>\n",
       "    <tr>\n",
       "      <th>575</th>\n",
       "      <td>394687</td>\n",
       "      <td>869</td>\n",
       "      <td>Hood River, OR</td>\n",
       "      <td>msa</td>\n",
       "      <td>OR</td>\n",
       "      <td>NaN</td>\n",
       "      <td>NaN</td>\n",
       "      <td>NaN</td>\n",
       "      <td>708.148593</td>\n",
       "      <td>NaN</td>\n",
       "      <td>...</td>\n",
       "      <td>NaN</td>\n",
       "      <td>2039.794902</td>\n",
       "      <td>NaN</td>\n",
       "      <td>2061.477514</td>\n",
       "      <td>2053.911628</td>\n",
       "      <td>2293.863629</td>\n",
       "      <td>2446.688466</td>\n",
       "      <td>2573.551207</td>\n",
       "      <td>2575.000000</td>\n",
       "      <td>2617.167354</td>\n",
       "    </tr>\n",
       "    <tr>\n",
       "      <th>576</th>\n",
       "      <td>394718</td>\n",
       "      <td>892</td>\n",
       "      <td>Jamestown, ND</td>\n",
       "      <td>msa</td>\n",
       "      <td>ND</td>\n",
       "      <td>NaN</td>\n",
       "      <td>NaN</td>\n",
       "      <td>NaN</td>\n",
       "      <td>NaN</td>\n",
       "      <td>NaN</td>\n",
       "      <td>...</td>\n",
       "      <td>643.033893</td>\n",
       "      <td>632.188630</td>\n",
       "      <td>NaN</td>\n",
       "      <td>668.388884</td>\n",
       "      <td>715.417127</td>\n",
       "      <td>687.157390</td>\n",
       "      <td>702.818101</td>\n",
       "      <td>729.449277</td>\n",
       "      <td>771.000000</td>\n",
       "      <td>795.646586</td>\n",
       "    </tr>\n",
       "    <tr>\n",
       "      <th>577</th>\n",
       "      <td>394330</td>\n",
       "      <td>906</td>\n",
       "      <td>Andrews, TX</td>\n",
       "      <td>msa</td>\n",
       "      <td>TX</td>\n",
       "      <td>NaN</td>\n",
       "      <td>NaN</td>\n",
       "      <td>480.844237</td>\n",
       "      <td>470.002683</td>\n",
       "      <td>NaN</td>\n",
       "      <td>...</td>\n",
       "      <td>NaN</td>\n",
       "      <td>901.423609</td>\n",
       "      <td>NaN</td>\n",
       "      <td>NaN</td>\n",
       "      <td>NaN</td>\n",
       "      <td>NaN</td>\n",
       "      <td>NaN</td>\n",
       "      <td>NaN</td>\n",
       "      <td>962.000000</td>\n",
       "      <td>1019.826674</td>\n",
       "    </tr>\n",
       "    <tr>\n",
       "      <th>578</th>\n",
       "      <td>394996</td>\n",
       "      <td>907</td>\n",
       "      <td>Portales, NM</td>\n",
       "      <td>msa</td>\n",
       "      <td>NM</td>\n",
       "      <td>517.203126</td>\n",
       "      <td>516.728308</td>\n",
       "      <td>526.970302</td>\n",
       "      <td>529.436634</td>\n",
       "      <td>531.612792</td>\n",
       "      <td>...</td>\n",
       "      <td>NaN</td>\n",
       "      <td>812.564382</td>\n",
       "      <td>816.337611</td>\n",
       "      <td>774.215873</td>\n",
       "      <td>781.403240</td>\n",
       "      <td>778.818450</td>\n",
       "      <td>800.955182</td>\n",
       "      <td>832.421311</td>\n",
       "      <td>850.000000</td>\n",
       "      <td>840.276292</td>\n",
       "    </tr>\n",
       "  </tbody>\n",
       "</table>\n",
       "<p>579 rows × 96 columns</p>\n",
       "</div>"
      ],
      "text/plain": [
       "     RegionID  SizeRank       RegionName RegionType StateName   2015-03-31  \\\n",
       "0      102001         0    United States    country       NaN  1370.301806   \n",
       "1      394913         1     New York, NY        msa        NY  2506.196326   \n",
       "2      753899         2  Los Angeles, CA        msa        CA  1977.874325   \n",
       "3      394463         3      Chicago, IL        msa        IL  1478.149264   \n",
       "4      394514         4       Dallas, TX        msa        TX  1180.713035   \n",
       "..        ...       ...              ...        ...       ...          ...   \n",
       "574    394322       861        Altus, OK        msa        OK   404.816596   \n",
       "575    394687       869   Hood River, OR        msa        OR          NaN   \n",
       "576    394718       892    Jamestown, ND        msa        ND          NaN   \n",
       "577    394330       906      Andrews, TX        msa        TX          NaN   \n",
       "578    394996       907     Portales, NM        msa        NM   517.203126   \n",
       "\n",
       "      2015-04-30   2015-05-31   2015-06-30   2015-07-31  ...   2021-12-31  \\\n",
       "0    1381.971304  1392.389090  1403.203509  1408.901384  ...  1928.945108   \n",
       "1    2533.311441  2552.989317  2570.501028  2573.663435  ...  2957.725252   \n",
       "2    1990.644815  2004.443160  2016.922137  2031.255505  ...  2808.206899   \n",
       "3    1490.961012  1502.702134  1528.952557  1535.997197  ...  1795.629571   \n",
       "4    1191.112125  1202.397600  1209.409429  1216.117716  ...  1724.699775   \n",
       "..           ...          ...          ...          ...  ...          ...   \n",
       "574          NaN   417.170690          NaN          NaN  ...          NaN   \n",
       "575          NaN          NaN   708.148593          NaN  ...          NaN   \n",
       "576          NaN          NaN          NaN          NaN  ...   643.033893   \n",
       "577          NaN   480.844237   470.002683          NaN  ...          NaN   \n",
       "578   516.728308   526.970302   529.436634   531.612792  ...          NaN   \n",
       "\n",
       "      2022-01-31   2022-02-28   2022-03-31   2022-04-30   2022-05-31  \\\n",
       "0    1937.304351  1955.272060  1971.256988  1997.731260  2019.752839   \n",
       "1    2984.899451  3032.151836  3082.959790  3142.381057  3201.035347   \n",
       "2    2825.516662  2850.339483  2881.506596  2919.113666  2953.089197   \n",
       "3    1808.471849  1823.778075  1843.010280  1865.307537  1890.513951   \n",
       "4    1736.260930  1747.886285  1758.449166  1780.575633  1807.486899   \n",
       "..           ...          ...          ...          ...          ...   \n",
       "574          NaN          NaN   735.821384   732.921061   771.810020   \n",
       "575  2039.794902          NaN  2061.477514  2053.911628  2293.863629   \n",
       "576   632.188630          NaN   668.388884   715.417127   687.157390   \n",
       "577   901.423609          NaN          NaN          NaN          NaN   \n",
       "578   812.564382   816.337611   774.215873   781.403240   778.818450   \n",
       "\n",
       "      2022-06-30   2022-07-31   2022-08-31   2022-09-30  \n",
       "0    2044.662959  2065.275748  2078.546078  2084.084210  \n",
       "1    3258.611614  3308.938574  3327.647323  3321.271717  \n",
       "2    2978.850604  2999.777869  3013.211794  3019.026316  \n",
       "3    1911.437953  1930.811578  1939.370439  1941.933786  \n",
       "4    1842.009269  1866.378789  1876.715983  1875.844643  \n",
       "..           ...          ...          ...          ...  \n",
       "574   755.232683   810.606473   750.000000   821.649685  \n",
       "575  2446.688466  2573.551207  2575.000000  2617.167354  \n",
       "576   702.818101   729.449277   771.000000   795.646586  \n",
       "577          NaN          NaN   962.000000  1019.826674  \n",
       "578   800.955182   832.421311   850.000000   840.276292  \n",
       "\n",
       "[579 rows x 96 columns]"
      ]
     },
     "execution_count": 2,
     "metadata": {},
     "output_type": "execute_result"
    }
   ],
   "source": [
    "zori = pd.read_csv(\"zori1.csv\")\n",
    "zori"
   ]
  },
  {
   "cell_type": "markdown",
   "id": "b8395fc6",
   "metadata": {},
   "source": [
    "Each column represents a different month, while each row corresponds to a specific metro area or region. Since we're interested in predicting nationwide inflation trends, we isolate the row for the entire country and transpose it so that time is represented as a column."
   ]
  },
  {
   "cell_type": "code",
   "execution_count": 3,
   "id": "845cf532",
   "metadata": {},
   "outputs": [
    {
     "data": {
      "text/html": [
       "<div>\n",
       "<style scoped>\n",
       "    .dataframe tbody tr th:only-of-type {\n",
       "        vertical-align: middle;\n",
       "    }\n",
       "\n",
       "    .dataframe tbody tr th {\n",
       "        vertical-align: top;\n",
       "    }\n",
       "\n",
       "    .dataframe thead th {\n",
       "        text-align: right;\n",
       "    }\n",
       "</style>\n",
       "<table border=\"1\" class=\"dataframe\">\n",
       "  <thead>\n",
       "    <tr style=\"text-align: right;\">\n",
       "      <th></th>\n",
       "      <th>RegionID</th>\n",
       "      <th>SizeRank</th>\n",
       "      <th>RegionName</th>\n",
       "      <th>RegionType</th>\n",
       "      <th>StateName</th>\n",
       "      <th>2015-03-31</th>\n",
       "      <th>2015-04-30</th>\n",
       "      <th>2015-05-31</th>\n",
       "      <th>2015-06-30</th>\n",
       "      <th>2015-07-31</th>\n",
       "      <th>...</th>\n",
       "      <th>2021-11-30</th>\n",
       "      <th>2021-12-31</th>\n",
       "      <th>2022-01-31</th>\n",
       "      <th>2022-02-28</th>\n",
       "      <th>2022-03-31</th>\n",
       "      <th>2022-04-30</th>\n",
       "      <th>2022-05-31</th>\n",
       "      <th>2022-06-30</th>\n",
       "      <th>2022-07-31</th>\n",
       "      <th>2022-08-31</th>\n",
       "    </tr>\n",
       "  </thead>\n",
       "  <tbody>\n",
       "    <tr>\n",
       "      <th>0</th>\n",
       "      <td>102001</td>\n",
       "      <td>0</td>\n",
       "      <td>United States</td>\n",
       "      <td>country</td>\n",
       "      <td>NaN</td>\n",
       "      <td>1370.301806</td>\n",
       "      <td>1381.971304</td>\n",
       "      <td>1392.38909</td>\n",
       "      <td>1403.203509</td>\n",
       "      <td>1408.901384</td>\n",
       "      <td>...</td>\n",
       "      <td>1915.496408</td>\n",
       "      <td>1928.945108</td>\n",
       "      <td>1937.304351</td>\n",
       "      <td>1955.27206</td>\n",
       "      <td>1971.256988</td>\n",
       "      <td>1997.73126</td>\n",
       "      <td>2019.752839</td>\n",
       "      <td>2044.662959</td>\n",
       "      <td>2065.275748</td>\n",
       "      <td>2078.546078</td>\n",
       "    </tr>\n",
       "  </tbody>\n",
       "</table>\n",
       "<p>1 rows × 95 columns</p>\n",
       "</div>"
      ],
      "text/plain": [
       "   RegionID  SizeRank     RegionName RegionType StateName   2015-03-31  \\\n",
       "0    102001         0  United States    country       NaN  1370.301806   \n",
       "\n",
       "    2015-04-30  2015-05-31   2015-06-30   2015-07-31  ...   2021-11-30  \\\n",
       "0  1381.971304  1392.38909  1403.203509  1408.901384  ...  1915.496408   \n",
       "\n",
       "    2021-12-31   2022-01-31  2022-02-28   2022-03-31  2022-04-30   2022-05-31  \\\n",
       "0  1928.945108  1937.304351  1955.27206  1971.256988  1997.73126  2019.752839   \n",
       "\n",
       "    2022-06-30   2022-07-31   2022-08-31  \n",
       "0  2044.662959  2065.275748  2078.546078  \n",
       "\n",
       "[1 rows x 95 columns]"
      ]
     },
     "execution_count": 3,
     "metadata": {},
     "output_type": "execute_result"
    }
   ],
   "source": [
    "zUS = zori.iloc[[0], :-1]\n",
    "zUS"
   ]
  },
  {
   "cell_type": "markdown",
   "id": "f5ef9164",
   "metadata": {},
   "source": [
    "After transformation, we create a two-column DataFrame called `zillow`, with:\n",
    "\n",
    "- `DATE`: Monthly timestamps  \n",
    "- `ZORI`: The national observed rent index for that month\n",
    "\n",
    "This structure allows us to align and merge the data with CPI values later.\n",
    "\n",
    "We also visualize the ZORI index over time to observe general rent trends."
   ]
  },
  {
   "cell_type": "code",
   "execution_count": 4,
   "id": "e17fafa2",
   "metadata": {},
   "outputs": [
    {
     "data": {
      "text/html": [
       "<div>\n",
       "<style scoped>\n",
       "    .dataframe tbody tr th:only-of-type {\n",
       "        vertical-align: middle;\n",
       "    }\n",
       "\n",
       "    .dataframe tbody tr th {\n",
       "        vertical-align: top;\n",
       "    }\n",
       "\n",
       "    .dataframe thead th {\n",
       "        text-align: right;\n",
       "    }\n",
       "</style>\n",
       "<table border=\"1\" class=\"dataframe\">\n",
       "  <thead>\n",
       "    <tr style=\"text-align: right;\">\n",
       "      <th></th>\n",
       "      <th>DATE</th>\n",
       "      <th>ZORI</th>\n",
       "    </tr>\n",
       "  </thead>\n",
       "  <tbody>\n",
       "    <tr>\n",
       "      <th>0</th>\n",
       "      <td>2015-03-31</td>\n",
       "      <td>1370.301806</td>\n",
       "    </tr>\n",
       "    <tr>\n",
       "      <th>1</th>\n",
       "      <td>2015-04-30</td>\n",
       "      <td>1381.971304</td>\n",
       "    </tr>\n",
       "    <tr>\n",
       "      <th>2</th>\n",
       "      <td>2015-05-31</td>\n",
       "      <td>1392.38909</td>\n",
       "    </tr>\n",
       "    <tr>\n",
       "      <th>3</th>\n",
       "      <td>2015-06-30</td>\n",
       "      <td>1403.203509</td>\n",
       "    </tr>\n",
       "    <tr>\n",
       "      <th>4</th>\n",
       "      <td>2015-07-31</td>\n",
       "      <td>1408.901384</td>\n",
       "    </tr>\n",
       "  </tbody>\n",
       "</table>\n",
       "</div>"
      ],
      "text/plain": [
       "        DATE         ZORI\n",
       "0 2015-03-31  1370.301806\n",
       "1 2015-04-30  1381.971304\n",
       "2 2015-05-31   1392.38909\n",
       "3 2015-06-30  1403.203509\n",
       "4 2015-07-31  1408.901384"
      ]
     },
     "execution_count": 4,
     "metadata": {},
     "output_type": "execute_result"
    }
   ],
   "source": [
    "zUS_transposed = zUS.T\n",
    "zillow = pd.DataFrame({\n",
    "    'DATE': pd.to_datetime(zUS_transposed.index[5:]),\n",
    "    'ZORI': zUS_transposed.iloc[5:, 0]\n",
    "})\n",
    "zillow.reset_index(drop=True, inplace=True)\n",
    "\n",
    "zillow.head()"
   ]
  },
  {
   "cell_type": "code",
   "execution_count": 5,
   "id": "a6e51a19",
   "metadata": {},
   "outputs": [
    {
     "data": {
      "image/png": "[encoded data removed]",
      "text/plain": [
       "<Figure size 640x480 with 1 Axes>"
      ]
     },
     "metadata": {},
     "output_type": "display_data"
    }
   ],
   "source": [
    "sns.lineplot(data=zillow, x=\"DATE\", y=\"ZORI\")\n",
    "plt.title(\"ZORI Index (National Rent Trend)\")\n",
    "plt.xlabel(\"Date\")\n",
    "plt.ylabel(\"ZORI Value\")\n",
    "plt.xticks(rotation=45)\n",
    "plt.tight_layout()\n",
    "plt.show()"
   ]
  },
  {
   "cell_type": "markdown",
   "id": "fbefbc91",
   "metadata": {},
   "source": [
    "<hr style=\"border: 1px solid #fdb515;\" />\n",
    "\n",
    "## U.S. CPI Data (Rent Component)\n",
    "\n",
    "Next, we load CPI data from the Federal Reserve Economic Data [website](https://fred.stlouisfed.org/series/CUUR0000SEHA), focusing specifically on the **rent of primary residence** component. This matches our ZORI focus on rental costs.\n",
    "\n",
    "We rename columns for readability and filter the dataset to align with the ZORI timeline starting in March 2015. The resulting `usCPI` DataFrame includes:\n",
    "\n",
    "- `DATE`: Monthly CPI timestamps  \n",
    "- `CPI`: U.S. Consumer Price Index for rent of primary residence\n",
    "\n",
    "We also visualize this data to compare its trend with the ZORI series."
   ]
  },
  {
   "cell_type": "code",
   "execution_count": 6,
   "id": "b656ed8c",
   "metadata": {},
   "outputs": [
    {
     "data": {
      "text/html": [
       "<div>\n",
       "<style scoped>\n",
       "    .dataframe tbody tr th:only-of-type {\n",
       "        vertical-align: middle;\n",
       "    }\n",
       "\n",
       "    .dataframe tbody tr th {\n",
       "        vertical-align: top;\n",
       "    }\n",
       "\n",
       "    .dataframe thead th {\n",
       "        text-align: right;\n",
       "    }\n",
       "</style>\n",
       "<table border=\"1\" class=\"dataframe\">\n",
       "  <thead>\n",
       "    <tr style=\"text-align: right;\">\n",
       "      <th></th>\n",
       "      <th>DATE</th>\n",
       "      <th>CPI</th>\n",
       "    </tr>\n",
       "  </thead>\n",
       "  <tbody>\n",
       "    <tr>\n",
       "      <th>1</th>\n",
       "      <td>2015-04-01</td>\n",
       "      <td>283.598</td>\n",
       "    </tr>\n",
       "    <tr>\n",
       "      <th>2</th>\n",
       "      <td>2015-05-01</td>\n",
       "      <td>284.245</td>\n",
       "    </tr>\n",
       "    <tr>\n",
       "      <th>3</th>\n",
       "      <td>2015-06-01</td>\n",
       "      <td>285.031</td>\n",
       "    </tr>\n",
       "    <tr>\n",
       "      <th>4</th>\n",
       "      <td>2015-07-01</td>\n",
       "      <td>286.090</td>\n",
       "    </tr>\n",
       "    <tr>\n",
       "      <th>5</th>\n",
       "      <td>2015-08-01</td>\n",
       "      <td>287.068</td>\n",
       "    </tr>\n",
       "    <tr>\n",
       "      <th>...</th>\n",
       "      <td>...</td>\n",
       "      <td>...</td>\n",
       "    </tr>\n",
       "    <tr>\n",
       "      <th>86</th>\n",
       "      <td>2022-05-01</td>\n",
       "      <td>365.116</td>\n",
       "    </tr>\n",
       "    <tr>\n",
       "      <th>87</th>\n",
       "      <td>2022-06-01</td>\n",
       "      <td>367.927</td>\n",
       "    </tr>\n",
       "    <tr>\n",
       "      <th>88</th>\n",
       "      <td>2022-07-01</td>\n",
       "      <td>370.448</td>\n",
       "    </tr>\n",
       "    <tr>\n",
       "      <th>89</th>\n",
       "      <td>2022-08-01</td>\n",
       "      <td>373.283</td>\n",
       "    </tr>\n",
       "    <tr>\n",
       "      <th>90</th>\n",
       "      <td>2022-09-01</td>\n",
       "      <td>376.569</td>\n",
       "    </tr>\n",
       "  </tbody>\n",
       "</table>\n",
       "<p>90 rows × 2 columns</p>\n",
       "</div>"
      ],
      "text/plain": [
       "         DATE      CPI\n",
       "1  2015-04-01  283.598\n",
       "2  2015-05-01  284.245\n",
       "3  2015-06-01  285.031\n",
       "4  2015-07-01  286.090\n",
       "5  2015-08-01  287.068\n",
       "..        ...      ...\n",
       "86 2022-05-01  365.116\n",
       "87 2022-06-01  367.927\n",
       "88 2022-07-01  370.448\n",
       "89 2022-08-01  373.283\n",
       "90 2022-09-01  376.569\n",
       "\n",
       "[90 rows x 2 columns]"
      ]
     },
     "execution_count": 6,
     "metadata": {},
     "output_type": "execute_result"
    }
   ],
   "source": [
    "usCPI = pd.read_csv(\"usCPI.csv\")\n",
    "usCPI = usCPI.rename(columns={\"CUUR0000SEHA\": \"CPI\"})\n",
    "usCPI = usCPI.iloc[1:, :]\n",
    "usCPI['DATE'] = pd.to_datetime(usCPI['DATE'], format='%Y-%m-%d')\n",
    "usCPI"
   ]
  },
  {
   "cell_type": "code",
   "execution_count": 7,
   "id": "c84b71d5",
   "metadata": {},
   "outputs": [
    {
     "data": {
      "image/png": "[encoded data removed]",
      "text/plain": [
       "<Figure size 640x480 with 1 Axes>"
      ]
     },
     "metadata": {},
     "output_type": "display_data"
    }
   ],
   "source": [
    "sns.lineplot(data=usCPI, x=\"DATE\", y=\"CPI\")\n",
    "plt.title(\"US CPI (Rent of Primary Residence)\")\n",
    "plt.xlabel(\"Date\")\n",
    "plt.ylabel(\"CPI Value\")\n",
    "plt.xticks(rotation=45)\n",
    "plt.tight_layout()\n",
    "plt.show()"
   ]
  },
  {
   "cell_type": "markdown",
   "id": "ab57625f",
   "metadata": {},
   "source": [
    "<hr style=\"border: 1px solid #fdb515;\" />\n",
    "\n",
    "## Train/Test Split\n",
    "\n",
    "To build a forecasting model, we divide the CPI time series into:\n",
    "\n",
    "- **Training set:** Data before January 1, 2022  \n",
    "- **Test set:** Data from January 1, 2022 and onward\n",
    "\n",
    "This allows us to train the model on past data and evaluate its ability to predict recent CPI values. We visualize the split to confirm the temporal boundary."
   ]
  },
  {
   "cell_type": "code",
   "execution_count": 8,
   "id": "2bc25d15",
   "metadata": {
    "scrolled": true,
    "tags": []
   },
   "outputs": [
    {
     "data": {
      "image/png": "[encoded data removed]",
      "text/plain": [
       "<Figure size 640x480 with 1 Axes>"
      ]
     },
     "metadata": {},
     "output_type": "display_data"
    }
   ],
   "source": [
    "# Set DATE as index for time series analysis\n",
    "zillow = zillow.set_index('DATE')\n",
    "usCPI = usCPI.set_index('DATE')\n",
    "\n",
    "# Create train/test sets\n",
    "train = usCPI[usCPI.index < pd.to_datetime(\"2022-01-01\")]\n",
    "test = usCPI[usCPI.index >= pd.to_datetime(\"2022-01-01\")]\n",
    "\n",
    "# Plot the split\n",
    "plt.plot(train[\"CPI\"], color=\"black\", label=\"Train\")\n",
    "plt.plot(test[\"CPI\"], color=\"red\", label=\"Test\")\n",
    "plt.title(\"Train/Test Split for US CPI Data\")\n",
    "plt.xlabel(\"Date\")\n",
    "plt.ylabel(\"CPI Value\")\n",
    "plt.legend()\n",
    "plt.xticks(rotation=45)\n",
    "plt.tight_layout()\n",
    "plt.show()"
   ]
  },
  {
   "cell_type": "markdown",
   "id": "70de014d",
   "metadata": {},
   "source": [
    "# Section 2: Time Series Modeling\n",
    "<hr style=\"border: 5px solid #003262;\" />\n",
    "<hr style=\"border: 1px solid #fdb515;\" />\n",
    "\n",
    "In this section, I use time series forecasting to predict future CPI values based on historical rent trends from Zillow. I focus on the **ARIMA** model, which is well-suited for non-stationary data and performed best during model evaluation.\n",
    "\n",
    "The CPI series shows a clear upward trend, indicating non-stationarity. To handle this, we apply differencing through ARIMA to stabilize the series and improve forecast accuracy.\n",
    "\n",
    "<hr style=\"border: 1px solid #fdb515;\" />\n",
    "\n",
    "## What is ARIMA?\n",
    "\n",
    "ARIMA stands for **Autoregressive Integrated Moving Average**. It combines three components into a single model:\n",
    "\n",
    "- **AR($p$)** – Autoregressive: regression on prior time steps  \n",
    "- **I($d$)** – Integrated: differencing to remove trends and make the series stationary  \n",
    "- **MA($q$)** – Moving Average: regression on past forecast errors\n",
    "\n",
    "The model is written as ARIMA($p$, $d$, $q$), where:\n",
    "- $p$ is the number of autoregressive terms\n",
    "- $d$ is the number of differences needed for stationarity\n",
    "- $q$ is the number of moving average terms\n",
    "\n",
    "<hr style=\"border: 1px solid #fdb515;\" />\n",
    "\n",
    "### ARIMA Model Equation\n",
    "\n",
    "$$\n",
    "X_t' = c + \\underbrace{\\phi_1 X_{t-1}' + \\phi_2 X_{t-2}' + \\cdots + \\phi_p X_{t-p}'}_{\\text{AR}(p)} + \\underbrace{\\theta_1 \\varepsilon_{t-1} + \\theta_2 \\varepsilon_{t-2} + \\cdots + \\theta_q \\varepsilon_{t-q}}_{\\text{MA}(q)} + \\varepsilon_t\n",
    "$$\n",
    "\n",
    "Where $X_t'$ is the differenced version of the original time series (it may have been differenced more than once).\n",
    "\n",
    "<hr style=\"border: 1px solid #fdb515;\" />\n",
    "\n",
    "### ARIMA Model Summary Table\n",
    "\n",
    "| Model                         | ARIMA(p, d, q)                  |\n",
    "|------------------------------|----------------------------------|\n",
    "| White noise                  | ARIMA(0,0,0)                     |\n",
    "| Random walk                  | ARIMA(0,1,0) with no constant    |\n",
    "| Random walk with drift       | ARIMA(0,1,0) with a constant     |\n",
    "| Autoregression (AR($p$))     | ARIMA($p$,0,0)                   |\n",
    "| Moving average (MA($q$))     | ARIMA(0,0,$q$)                   |\n",
    "\n",
    "<hr style=\"border: 1px solid #fdb515;\" />\n",
    "\n",
    "Now that we’ve introduced the ARIMA model, let’s implement it using historical CPI data."
   ]
  },
  {
   "cell_type": "code",
   "execution_count": 9,
   "id": "2cec18de",
   "metadata": {},
   "outputs": [],
   "source": [
    "from sklearn.metrics import mean_squared_error\n",
    "\n",
    "from statsmodels.tsa.arima.model import ARIMA\n",
    "from statsmodels.tsa.statespace.sarimax import SARIMAX\n",
    "\n",
    "import warnings\n",
    "warnings.filterwarnings(\"ignore\")"
   ]
  },
  {
   "cell_type": "code",
   "execution_count": 10,
   "id": "6dea31ab",
   "metadata": {},
   "outputs": [],
   "source": [
    "# Create CPI training and test series\n",
    "y_train = train[\"CPI\"]\n",
    "y_test = test[\"CPI\"]"
   ]
  },
  {
   "cell_type": "markdown",
   "id": "1050d17c",
   "metadata": {},
   "source": [
    "Now that we've split our data into training and test sets, we begin by fitting a baseline ARIMA model. We'll start with ARIMA(1,1,1), which applies first-order differencing to account for the non-stationary trend in the CPI data. Once the model is fitted, we generate predictions for the test period using the model's forecast method. We'll also calculate confidence intervals for the predicted values."
   ]
  },
  {
   "cell_type": "code",
   "execution_count": 11,
   "id": "3afd9e25",
   "metadata": {},
   "outputs": [],
   "source": [
    "arima_111 = ARIMA(y_train, order=(1, 1, 1))\n",
    "arima_111_fit = arima_111.fit()"
   ]
  },
  {
   "cell_type": "code",
   "execution_count": 12,
   "id": "612d754e",
   "metadata": {},
   "outputs": [],
   "source": [
    "# Forecast CPI for test period\n",
    "forecast_111 = arima_111_fit.get_forecast(steps=len(y_test))\n",
    "forecast_111_df = forecast_111.conf_int()\n",
    "forecast_111_df[\"Predictions\"] = arima_111_fit.predict(start=forecast_111_df.index[0], end=forecast_111_df.index[-1])\n",
    "forecast_111_df.index = y_test.index"
   ]
  },
  {
   "cell_type": "markdown",
   "id": "214ac793",
   "metadata": {},
   "source": [
    "We now compare the predicted CPI values with the actual test values by plotting them together."
   ]
  },
  {
   "cell_type": "code",
   "execution_count": 13,
   "id": "e4f09bae",
   "metadata": {},
   "outputs": [
    {
     "data": {
      "image/png": "[encoded data removed]",
      "text/plain": [
       "<Figure size 640x480 with 1 Axes>"
      ]
     },
     "metadata": {},
     "output_type": "display_data"
    }
   ],
   "source": [
    "plt.plot(y_train, color=\"black\", label=\"Train\")\n",
    "plt.plot(y_test, color=\"red\", label=\"Actual\")\n",
    "plt.plot(forecast_111_df[\"Predictions\"], color=\"blue\", label=\"ARIMA(1,1,1) Predictions\")\n",
    "plt.title(\"ARIMA(1,1,1) Forecast vs Actual CPI\")\n",
    "plt.xlabel(\"Date\")\n",
    "plt.ylabel(\"CPI\")\n",
    "plt.legend()\n",
    "plt.xticks(rotation=45)\n",
    "plt.tight_layout()\n",
    "plt.show()"
   ]
  },
  {
   "cell_type": "markdown",
   "id": "291658e1",
   "metadata": {},
   "source": [
    "To evaluate model performance, we calculate the **Root Mean Squared Error (RMSE)** between the actual and predicted CPI values.\n",
    "\n",
    "RMSE gives us a sense of how far off our forecasts are, on average, from the true values. Lower RMSE values indicate better predictive accuracy. For this project, our goal is to achieve an RMSE **below 3.5**, which we consider a reasonably accurate threshold for CPI forecasting based on historical variability.\n",
    "\n",
    "In the following cell, we calculate the RMSE for the baseline ARIMA(1,1,1) model to see how well it performs."
   ]
  },
  {
   "cell_type": "code",
   "execution_count": 14,
   "id": "9887865b",
   "metadata": {},
   "outputs": [
    {
     "name": "stdout",
     "output_type": "stream",
     "text": [
      "ARIMA(1,1,1) RMSE: 4.025688141981994\n"
     ]
    }
   ],
   "source": [
    "rmse_111 = np.sqrt(mean_squared_error(y_test, forecast_111_df[\"Predictions\"]))\n",
    "print(\"ARIMA(1,1,1) RMSE:\", rmse_111)"
   ]
  },
  {
   "cell_type": "markdown",
   "id": "638e3f2c",
   "metadata": {
    "deletable": false,
    "editable": false
   },
   "source": [
    "The ARIMA(1,1,1) model improved over the initial trendless approach by applying first-order differencing ($d=1$), which helped account for the upward trend in CPI. However, the RMSE remained around **4.0**, suggesting that the model still lacked precision.\n",
    "\n",
    "To improve the forecast, we tune the ARIMA model by adjusting the $(p, d, q)$ parameters. This tuning process is often done through trial and error, guided by diagnostic tools like ACF/PACF plots and AIC/BIC values. While we won't use those tools here, we’ll test a few combinations manually.\n",
    "\n",
    "After experimenting, I found that **ARIMA(2,3,1)** produced significantly better results, achieving an RMSE under 3.5. The next cell implements this tuned model and visualizes the results."
   ]
  },
  {
   "cell_type": "code",
   "execution_count": 15,
   "id": "3fc7ada2",
   "metadata": {
    "tags": []
   },
   "outputs": [
    {
     "data": {
      "image/png": "[encoded data removed]",
      "text/plain": [
       "<Figure size 640x480 with 1 Axes>"
      ]
     },
     "metadata": {},
     "output_type": "display_data"
    },
    {
     "name": "stdout",
     "output_type": "stream",
     "text": [
      "ARIMA(2,3,1) RMSE: 3.375176745287507\n"
     ]
    }
   ],
   "source": [
    "arima_231 = ARIMA(y_train, order=(2, 3, 1)).fit()\n",
    "\n",
    "forecast_231 = arima_231.get_forecast(steps=len(y_test))\n",
    "forecast_231_df = forecast_231.conf_int()\n",
    "forecast_231_df[\"Predictions\"] = arima_231.predict(start=forecast_231_df.index[0], end=forecast_231_df.index[-1])\n",
    "forecast_231_df.index = y_test.index\n",
    "\n",
    "plt.plot(y_train, color=\"black\", label=\"Train\")\n",
    "plt.plot(y_test, color=\"red\", label=\"Actual\")\n",
    "plt.plot(forecast_231_df[\"Predictions\"], color=\"purple\", label=\"ARIMA(2,3,1) Predictions\")\n",
    "plt.title(\"ARIMA(2,3,1) Forecast vs Actual CPI\")\n",
    "plt.xlabel(\"Date\")\n",
    "plt.ylabel(\"CPI\")\n",
    "plt.legend()\n",
    "plt.xticks(rotation=45)\n",
    "plt.tight_layout()\n",
    "plt.show()\n",
    "\n",
    "rmse_231 = np.sqrt(mean_squared_error(y_test, forecast_231_df[\"Predictions\"]))\n",
    "print(\"ARIMA(2,3,1) RMSE:\", rmse_231)"
   ]
  },
  {
   "cell_type": "markdown",
   "id": "d4dc8022",
   "metadata": {
    "deletable": false,
    "editable": false
   },
   "source": [
    "### ARIMA Evaluation\n",
    "\n",
    "After testing several ARIMA configurations, the ARIMA(2,3,1) model achieved the lowest RMSE of **3.4**, making it the most accurate univariate model tested. This result highlights the importance of differencing to handle long-term trends and the role of careful parameter tuning in capturing temporal dependencies.\n",
    "\n",
    "While this model performs well using only past CPI values, it does not account for **external factors**—such as rent trends—that could help explain or improve the forecast. To explore this, we will look at a multivariate time series model to see whether CPI can be better predicted when incorporating rent data directly."
   ]
  },
  {
   "cell_type": "markdown",
   "id": "6dea1312-0335-4bd4-9d0d-36139177c07c",
   "metadata": {},
   "source": [
    "### Section 3: Multivariate Time Series Modeling with VAR\n",
    "<hr style=\"border: 5px solid #003262;\" />\n",
    "<hr style=\"border: 1px solid #fdb515;\" />\n",
    "\n",
    "The **Vector Autoregression (VAR)** model is a powerful tool for modeling and forecasting the behavior of multiple time series variables simultaneously. Unlike univariate models like ARIMA—which model a single variable using its own lagged values—VAR allows us to **capture the dynamic relationship between multiple variables** over time.\n",
    "\n",
    "In our case, we’re interested in exploring the relationship between **Zillow's Observed Rent Index (ZORI)** and the **Consumer Price Index (CPI)**. Since rent prices and consumer inflation are likely to influence each other, a multivariate approach like VAR is well-suited for this analysis.\n",
    "\n",
    "#### How VAR Works:\n",
    "The VAR model treats all time series variables in the system as **endogenous**. That is, each variable is a function of the **lagged values of itself and all other variables in the system**. For example:\n",
    "\n",
    "$$\n",
    "\\begin{aligned}\n",
    "\\text{log CPI}_t &= c_1 + \\phi_{11} \\text{log CPI}_{t-1} + \\phi_{12} \\text{log ZORI}_{t-1} + \\varepsilon_{1t} \\\\\\\\\n",
    "\\text{log ZORI}_t &= c_2 + \\phi_{21} \\text{log CPI}_{t-1} + \\phi_{22} \\text{log ZORI}_{t-1} + \\varepsilon_{2t}\n",
    "\\end{aligned}\n",
    "$$\n",
    "\n",
    "This system can be extended to include multiple lags and more variables if needed.\n",
    "\n",
    "#### Why We Use VAR Here:\n",
    "- It helps us **forecast CPI** using not just its own past values but also rent trends (ZORI).\n",
    "- We can **test causality** between variables, such as whether changes in ZORI help predict future CPI.\n",
    "- The model is ideal for economic indicators that are often **mutually influential**, such as inflation and rent.\n",
    "\n",
    "<hr style=\"border: 1px solid #fdb515;\" />\n",
    "\n",
    "In the steps that follow, we’ll:\n",
    "1. Align and prepare the data  \n",
    "2. Log transform and difference the series to ensure stationarity  \n",
    "3. Fit a VAR model  \n",
    "4. Generate forecasts  \n",
    "5. Evaluate prediction accuracy using RMSE  \n",
    "\n",
    "Let’s begin by aligning our time series and preparing them for analysis."
   ]
  },
  {
   "cell_type": "code",
   "execution_count": 16,
   "id": "a07c70fb",
   "metadata": {},
   "outputs": [],
   "source": [
    "# Import Statsmodels packages\n",
    "from statsmodels.tsa.api import VAR\n",
    "from statsmodels.tsa.stattools import adfuller\n",
    "from statsmodels.tools.eval_measures import rmse, aic"
   ]
  },
  {
   "cell_type": "markdown",
   "id": "59c130ff",
   "metadata": {},
   "source": [
    "### Combining CPI and ZORI into a single DataFrame\n",
    "\n",
    "To analyze the relationship between CPI and ZORI together, we create a combined DataFrame that aligns the time indices. Since CPI is recorded on the 1st of each month and ZORI on the 31st, we'll use CPI's date index as the baseline."
   ]
  },
  {
   "cell_type": "code",
   "execution_count": 17,
   "id": "1cc83f42",
   "metadata": {},
   "outputs": [
    {
     "data": {
      "text/html": [
       "<div>\n",
       "<style scoped>\n",
       "    .dataframe tbody tr th:only-of-type {\n",
       "        vertical-align: middle;\n",
       "    }\n",
       "\n",
       "    .dataframe tbody tr th {\n",
       "        vertical-align: top;\n",
       "    }\n",
       "\n",
       "    .dataframe thead th {\n",
       "        text-align: right;\n",
       "    }\n",
       "</style>\n",
       "<table border=\"1\" class=\"dataframe\">\n",
       "  <thead>\n",
       "    <tr style=\"text-align: right;\">\n",
       "      <th></th>\n",
       "      <th>ZORI</th>\n",
       "      <th>CPI</th>\n",
       "    </tr>\n",
       "    <tr>\n",
       "      <th>DATE</th>\n",
       "      <th></th>\n",
       "      <th></th>\n",
       "    </tr>\n",
       "  </thead>\n",
       "  <tbody>\n",
       "    <tr>\n",
       "      <th>2015-04-01</th>\n",
       "      <td>1370.301806</td>\n",
       "      <td>283.598</td>\n",
       "    </tr>\n",
       "    <tr>\n",
       "      <th>2015-05-01</th>\n",
       "      <td>1381.971304</td>\n",
       "      <td>284.245</td>\n",
       "    </tr>\n",
       "    <tr>\n",
       "      <th>2015-06-01</th>\n",
       "      <td>1392.38909</td>\n",
       "      <td>285.031</td>\n",
       "    </tr>\n",
       "    <tr>\n",
       "      <th>2015-07-01</th>\n",
       "      <td>1403.203509</td>\n",
       "      <td>286.090</td>\n",
       "    </tr>\n",
       "    <tr>\n",
       "      <th>2015-08-01</th>\n",
       "      <td>1408.901384</td>\n",
       "      <td>287.068</td>\n",
       "    </tr>\n",
       "  </tbody>\n",
       "</table>\n",
       "</div>"
      ],
      "text/plain": [
       "                   ZORI      CPI\n",
       "DATE                            \n",
       "2015-04-01  1370.301806  283.598\n",
       "2015-05-01  1381.971304  284.245\n",
       "2015-06-01   1392.38909  285.031\n",
       "2015-07-01  1403.203509  286.090\n",
       "2015-08-01  1408.901384  287.068"
      ]
     },
     "execution_count": 17,
     "metadata": {},
     "output_type": "execute_result"
    }
   ],
   "source": [
    "combined = pd.concat([zillow.reset_index(drop=True), usCPI.reset_index(drop=True)], axis=1)\n",
    "combined.index = usCPI.index\n",
    "combined.head()"
   ]
  },
  {
   "cell_type": "markdown",
   "id": "2d405a49",
   "metadata": {},
   "source": [
    "### Visual Comparison: CPI vs ZORI\n",
    "\n",
    "We'll plot both series together using twin axes to visually inspect if they appear to move together over time."
   ]
  },
  {
   "cell_type": "code",
   "execution_count": 18,
   "id": "6bf30323",
   "metadata": {},
   "outputs": [
    {
     "data": {
      "text/plain": [
       "Text(0.5, 1.0, 'US CPI vs ZORI')"
      ]
     },
     "execution_count": 18,
     "metadata": {},
     "output_type": "execute_result"
    },
    {
     "data": {
      "image/png": "[encoded data removed]",
      "text/plain": [
       "<Figure size 640x480 with 2 Axes>"
      ]
     },
     "metadata": {},
     "output_type": "display_data"
    }
   ],
   "source": [
    "sns.lineplot(data=combined, x=\"DATE\", y=\"CPI\", color='tab:blue', label='CPI')\n",
    "ax2 = plt.twinx()\n",
    "sns.lineplot(data=combined, x=\"DATE\", y=\"ZORI\", color='tab:orange', ax=ax2, label='ZORI')\n",
    "plt.legend(loc='upper left')\n",
    "ax2.legend(loc='lower right')\n",
    "plt.title(\"US CPI vs ZORI\")"
   ]
  },
  {
   "cell_type": "markdown",
   "id": "809d9e48",
   "metadata": {},
   "source": [
    "### Log Transformation\n",
    "\n",
    "To stabilize the variance and make the two series more comparable, we take the natural log of both CPI and ZORI."
   ]
  },
  {
   "cell_type": "code",
   "execution_count": 19,
   "id": "fb155c9e",
   "metadata": {
    "tags": []
   },
   "outputs": [],
   "source": [
    "combined['CPI'] = combined['CPI'].astype('float64')\n",
    "combined['ZORI'] = combined['ZORI'].astype('float64')\n",
    "combined['log CPI'] = np.log(combined['CPI'])\n",
    "combined['log ZORI'] = np.log(combined['ZORI'])"
   ]
  },
  {
   "cell_type": "markdown",
   "id": "7cdef0c9",
   "metadata": {},
   "source": [
    "### Visualizing the Logged Series\n",
    "\n",
    "We'll now re-plot the logged versions of CPI and ZORI."
   ]
  },
  {
   "cell_type": "code",
   "execution_count": 20,
   "id": "5aec4bf6",
   "metadata": {},
   "outputs": [
    {
     "data": {
      "text/plain": [
       "Text(0.5, 1.0, 'US CPI vs ZORI (Logged)')"
      ]
     },
     "execution_count": 20,
     "metadata": {},
     "output_type": "execute_result"
    },
    {
     "data": {
      "image/png": "[encoded data removed]",
      "text/plain": [
       "<Figure size 640x480 with 2 Axes>"
      ]
     },
     "metadata": {},
     "output_type": "display_data"
    }
   ],
   "source": [
    "sns.lineplot(combined['log CPI'], color='tab:blue', label='log CPI')\n",
    "plt.ylim(5.6, 6.1)\n",
    "plt.legend(loc='upper left')\n",
    "\n",
    "ax2 = plt.twinx()\n",
    "sns.lineplot(combined['log ZORI'], color='tab:orange', ax=ax2, label='log ZORI')\n",
    "ax2.legend(loc='lower right')\n",
    "plt.title(\"US CPI vs ZORI (Logged)\")"
   ]
  },
  {
   "cell_type": "markdown",
   "id": "19285041",
   "metadata": {},
   "source": [
    "### Augmented Dickey Fuller Test\n",
    "\n",
    "We'll use the **Augmented Dickey Fuller (ADF) test** to check whether each series is **stationary**. A stationary time series is one whose **statistical properties like mean and variance do not change over time**. This is a key assumption in time series forecasting models like VAR, which rely on stable patterns to make accurate predictions.\n",
    "\n",
    "If the series is not stationary (that is, it has a trend or changing variability), we’ll **difference** the data by subtracting previous values to stabilize it. We will repeat this process until the ADF test confirms that both series are stationary."
   ]
  },
  {
   "cell_type": "code",
   "execution_count": 21,
   "id": "9b1d55d0",
   "metadata": {},
   "outputs": [],
   "source": [
    "def adfuller_test(series, signif=0.05, name='', verbose=False):\n",
    "    r = adfuller(series, autolag='AIC')\n",
    "    output = {'test_statistic': round(r[0], 4), 'pvalue': round(r[1], 4),\n",
    "              'n_lags': round(r[2], 4), 'n_obs': r[3]}\n",
    "    p_value = output['pvalue']\n",
    "    \n",
    "    print(f'ADF Test on \"{name}\"')\n",
    "    print(f' => P-Value = {p_value}')\n",
    "    \n",
    "    if p_value <= signif:\n",
    "        print(\" => Series is Stationary.\\n\")\n",
    "    else:\n",
    "        print(\" => Series is Non-Stationary.\\n\")"
   ]
  },
  {
   "cell_type": "markdown",
   "id": "9baaebc0",
   "metadata": {},
   "source": [
    "### Running ADF Test on Log Transformed Series"
   ]
  },
  {
   "cell_type": "code",
   "execution_count": 22,
   "id": "8bd0a022",
   "metadata": {},
   "outputs": [
    {
     "name": "stdout",
     "output_type": "stream",
     "text": [
      "ADF Test on \"log CPI\"\n",
      " => P-Value = 0.9985\n",
      " => Series is Non-Stationary.\n",
      "\n",
      "ADF Test on \"log ZORI\"\n",
      " => P-Value = 0.9898\n",
      " => Series is Non-Stationary.\n",
      "\n"
     ]
    }
   ],
   "source": [
    "adfuller_test(combined['log CPI'], name='log CPI')\n",
    "adfuller_test(combined['log ZORI'], name='log ZORI')"
   ]
  },
  {
   "cell_type": "markdown",
   "id": "9484494c",
   "metadata": {},
   "source": [
    "### Making the Series Stationary (Second Differencing)\n",
    "\n",
    "Since both `log CPI` and `log ZORI` were non-stationary, we apply second-order"
   ]
  },
  {
   "cell_type": "code",
   "execution_count": 23,
   "id": "09a4715a",
   "metadata": {},
   "outputs": [],
   "source": [
    "df_log = combined[['log CPI', 'log ZORI']]\n",
    "df_diff2 = df_log.diff().dropna().diff().dropna()"
   ]
  },
  {
   "cell_type": "markdown",
   "id": "9bc2a33d",
   "metadata": {},
   "source": [
    "### Confirming Stationarity with ADF Test"
   ]
  },
  {
   "cell_type": "code",
   "execution_count": 24,
   "id": "727cf00c",
   "metadata": {},
   "outputs": [
    {
     "name": "stdout",
     "output_type": "stream",
     "text": [
      "ADF Test on \"log CPI\"\n",
      " => P-Value = 0.0\n",
      " => Series is Stationary.\n",
      "\n",
      "\n",
      "ADF Test on \"log ZORI\"\n",
      " => P-Value = 0.0001\n",
      " => Series is Stationary.\n",
      "\n",
      "\n"
     ]
    }
   ],
   "source": [
    "for name, series in df_diff2.items():\n",
    "    adfuller_test(series, name=name)\n",
    "    print()"
   ]
  },
  {
   "cell_type": "markdown",
   "id": "c00e3ec0",
   "metadata": {},
   "source": [
    "### Selecting the Optimal Lag Order\n",
    "\n",
    "We will use **information criteria** such as **AIC** (Akaike Information Criterion) and **BIC** (Bayesian Information Criterion) to help determine the best lag length for our VAR model. These criteria balance model fit with complexity, helping us avoid overfitting while capturing enough historical context for accurate forecasting."
   ]
  },
  {
   "cell_type": "code",
   "execution_count": 25,
   "id": "1251a864",
   "metadata": {
    "scrolled": true
   },
   "outputs": [
    {
     "name": "stdout",
     "output_type": "stream",
     "text": [
      "Lag Order = 1\n",
      "AIC  : -26.57637742925913\n",
      "BIC  : -26.406314800386397\n",
      "FPE  : 2.8711090829083573e-12\n",
      "HQIC : -26.507898452750826 \n",
      "\n",
      "Lag Order = 3\n",
      "AIC  : -26.757944110894506\n",
      "BIC  : -26.35562508041375\n",
      "FPE  : 2.3960576503556308e-12\n",
      "HQIC : -26.5961201439998 \n",
      "\n",
      "Lag Order = 5\n",
      "AIC  : -26.718941414961485\n",
      "BIC  : -26.07780294060576\n",
      "FPE  : 2.4973159760117584e-12\n",
      "HQIC : -26.46136787697193 \n",
      "\n",
      "Lag Order = 9\n",
      "AIC  : -26.67835357279625\n",
      "BIC  : -25.538619162748823\n",
      "FPE  : 2.6429297604368724e-12\n",
      "HQIC : -26.221741097863493 \n",
      "\n"
     ]
    }
   ],
   "source": [
    "model = VAR(df_diff2)\n",
    "\n",
    "for i in [1, 3, 5, 9]:\n",
    "    result = model.fit(i)\n",
    "    print(f'Lag Order = {i}')\n",
    "    print('AIC  :', result.aic)\n",
    "    print('BIC  :', result.bic)\n",
    "    print('FPE  :', result.fpe)\n",
    "    print('HQIC :', result.hqic, '\\n')"
   ]
  },
  {
   "cell_type": "markdown",
   "id": "e6183059",
   "metadata": {},
   "source": [
    "### Fitting the VAR Model"
   ]
  },
  {
   "cell_type": "code",
   "execution_count": 26,
   "id": "99cc1679",
   "metadata": {},
   "outputs": [
    {
     "data": {
      "text/plain": [
       "  Summary of Regression Results   \n",
       "==================================\n",
       "Model:                         VAR\n",
       "Method:                        OLS\n",
       "Date:           Wed, 23, Apr, 2025\n",
       "Time:                     00:14:06\n",
       "--------------------------------------------------------------------\n",
       "No. of Equations:         2.00000    BIC:                   -26.3556\n",
       "Nobs:                     85.0000    HQIC:                  -26.5961\n",
       "Log likelihood:           909.993    FPE:                2.39606e-12\n",
       "AIC:                     -26.7579    Det(Omega_mle):     2.04531e-12\n",
       "--------------------------------------------------------------------\n",
       "Results for equation log CPI\n",
       "==============================================================================\n",
       "                 coefficient       std. error           t-stat            prob\n",
       "------------------------------------------------------------------------------\n",
       "const               0.000076         0.000084            0.910           0.363\n",
       "L1.log CPI         -0.397033         0.115182           -3.447           0.001\n",
       "L1.log ZORI         0.000156         0.041842            0.004           0.997\n",
       "L2.log CPI         -0.082738         0.122970           -0.673           0.501\n",
       "L2.log ZORI         0.029869         0.041498            0.720           0.472\n",
       "L3.log CPI          0.079711         0.114748            0.695           0.487\n",
       "L3.log ZORI         0.073914         0.041366            1.787           0.074\n",
       "==============================================================================\n",
       "\n",
       "Results for equation log ZORI\n",
       "==============================================================================\n",
       "                 coefficient       std. error           t-stat            prob\n",
       "------------------------------------------------------------------------------\n",
       "const               0.000088         0.000209            0.421           0.674\n",
       "L1.log CPI         -0.305339         0.287410           -1.062           0.288\n",
       "L1.log ZORI         0.343040         0.104407            3.286           0.001\n",
       "L2.log CPI         -0.519364         0.306843           -1.693           0.091\n",
       "L2.log ZORI         0.300783         0.103548            2.905           0.004\n",
       "L3.log CPI         -0.573123         0.286326           -2.002           0.045\n",
       "L3.log ZORI        -0.380323         0.103219           -3.685           0.000\n",
       "==============================================================================\n",
       "\n",
       "Correlation matrix of residuals\n",
       "             log CPI  log ZORI\n",
       "log CPI     1.000000 -0.169758\n",
       "log ZORI   -0.169758  1.000000\n",
       "\n"
      ]
     },
     "execution_count": 26,
     "metadata": {},
     "output_type": "execute_result"
    }
   ],
   "source": [
    "model_fitted = model.fit(3)\n",
    "model_fitted.summary()"
   ]
  },
  {
   "cell_type": "markdown",
   "id": "66ec23b6",
   "metadata": {},
   "source": [
    "### Checking for Autocorrelation in Residuals\n",
    "\n",
    "We use the **Durbin-Watson statistic** to assess whether the residuals from our VAR model are autocorrelated. Residual autocorrelation can indicate that the model has not captured all the temporal structure in the data, which could weaken the reliability of forecasts."
   ]
  },
  {
   "cell_type": "code",
   "execution_count": 27,
   "id": "222942df",
   "metadata": {},
   "outputs": [
    {
     "name": "stdout",
     "output_type": "stream",
     "text": [
      "log CPI: 2.04\n",
      "log ZORI: 1.94\n"
     ]
    }
   ],
   "source": [
    "from statsmodels.stats.stattools import durbin_watson\n",
    "\n",
    "out = durbin_watson(model_fitted.resid)\n",
    "\n",
    "for col, val in zip(df_diff2.columns, out):\n",
    "    print(f'{col}:', round(val, 2))\n"
   ]
  },
  {
   "cell_type": "markdown",
   "id": "e7df1753",
   "metadata": {},
   "source": [
    "### Making Predictions\n",
    "We’ll generate out-of-sample forecasts for the next 4 periods (to match our test set size).\n"
   ]
  },
  {
   "cell_type": "code",
   "execution_count": 28,
   "id": "1439c183",
   "metadata": {},
   "outputs": [
    {
     "data": {
      "text/html": [
       "<div>\n",
       "<style scoped>\n",
       "    .dataframe tbody tr th:only-of-type {\n",
       "        vertical-align: middle;\n",
       "    }\n",
       "\n",
       "    .dataframe tbody tr th {\n",
       "        vertical-align: top;\n",
       "    }\n",
       "\n",
       "    .dataframe thead th {\n",
       "        text-align: right;\n",
       "    }\n",
       "</style>\n",
       "<table border=\"1\" class=\"dataframe\">\n",
       "  <thead>\n",
       "    <tr style=\"text-align: right;\">\n",
       "      <th></th>\n",
       "      <th>log CPI_2d</th>\n",
       "      <th>log ZORI_2d</th>\n",
       "    </tr>\n",
       "    <tr>\n",
       "      <th>DATE</th>\n",
       "      <th></th>\n",
       "      <th></th>\n",
       "    </tr>\n",
       "  </thead>\n",
       "  <tbody>\n",
       "    <tr>\n",
       "      <th>2022-06-01</th>\n",
       "      <td>-0.000481</td>\n",
       "      <td>-0.002598</td>\n",
       "    </tr>\n",
       "    <tr>\n",
       "      <th>2022-07-01</th>\n",
       "      <td>-0.000037</td>\n",
       "      <td>-0.001948</td>\n",
       "    </tr>\n",
       "    <tr>\n",
       "      <th>2022-08-01</th>\n",
       "      <td>-0.000124</td>\n",
       "      <td>-0.000375</td>\n",
       "    </tr>\n",
       "    <tr>\n",
       "      <th>2022-09-01</th>\n",
       "      <td>-0.000160</td>\n",
       "      <td>0.000694</td>\n",
       "    </tr>\n",
       "  </tbody>\n",
       "</table>\n",
       "</div>"
      ],
      "text/plain": [
       "            log CPI_2d  log ZORI_2d\n",
       "DATE                               \n",
       "2022-06-01   -0.000481    -0.002598\n",
       "2022-07-01   -0.000037    -0.001948\n",
       "2022-08-01   -0.000124    -0.000375\n",
       "2022-09-01   -0.000160     0.000694"
      ]
     },
     "execution_count": 28,
     "metadata": {},
     "output_type": "execute_result"
    }
   ],
   "source": [
    "lag_order = model_fitted.k_ar\n",
    "forecast_input = df_diff2.values[-lag_order:]\n",
    "\n",
    "n_obs = 4\n",
    "fc = model_fitted.forecast(y=forecast_input, steps=n_obs)\n",
    "\n",
    "df_forecast = pd.DataFrame(fc, index=combined.index[-n_obs:], columns=[col + '_2d' for col in df_diff2.columns])\n",
    "df_forecast"
   ]
  },
  {
   "cell_type": "markdown",
   "id": "a7595fe3",
   "metadata": {},
   "source": [
    "### Inverting the Differencing\n",
    "\n",
    "We convert the forecasted values back to their original (logged) scale for comparison."
   ]
  },
  {
   "cell_type": "code",
   "execution_count": 29,
   "id": "3cf02136",
   "metadata": {},
   "outputs": [
    {
     "data": {
      "text/html": [
       "<div>\n",
       "<style scoped>\n",
       "    .dataframe tbody tr th:only-of-type {\n",
       "        vertical-align: middle;\n",
       "    }\n",
       "\n",
       "    .dataframe tbody tr th {\n",
       "        vertical-align: top;\n",
       "    }\n",
       "\n",
       "    .dataframe thead th {\n",
       "        text-align: right;\n",
       "    }\n",
       "</style>\n",
       "<table border=\"1\" class=\"dataframe\">\n",
       "  <thead>\n",
       "    <tr style=\"text-align: right;\">\n",
       "      <th></th>\n",
       "      <th>log CPI_2d</th>\n",
       "      <th>log ZORI_2d</th>\n",
       "      <th>log CPI_1d</th>\n",
       "      <th>log CPI_forecast</th>\n",
       "      <th>log ZORI_1d</th>\n",
       "      <th>log ZORI_forecast</th>\n",
       "    </tr>\n",
       "    <tr>\n",
       "      <th>DATE</th>\n",
       "      <th></th>\n",
       "      <th></th>\n",
       "      <th></th>\n",
       "      <th></th>\n",
       "      <th></th>\n",
       "      <th></th>\n",
       "    </tr>\n",
       "  </thead>\n",
       "  <tbody>\n",
       "    <tr>\n",
       "      <th>2022-06-01</th>\n",
       "      <td>-0.000481</td>\n",
       "      <td>-0.002598</td>\n",
       "      <td>0.008284</td>\n",
       "      <td>5.939385</td>\n",
       "      <td>0.003807</td>\n",
       "      <td>7.643231</td>\n",
       "    </tr>\n",
       "    <tr>\n",
       "      <th>2022-07-01</th>\n",
       "      <td>-0.000037</td>\n",
       "      <td>-0.001948</td>\n",
       "      <td>0.008247</td>\n",
       "      <td>5.947632</td>\n",
       "      <td>0.001859</td>\n",
       "      <td>7.645091</td>\n",
       "    </tr>\n",
       "    <tr>\n",
       "      <th>2022-08-01</th>\n",
       "      <td>-0.000124</td>\n",
       "      <td>-0.000375</td>\n",
       "      <td>0.008122</td>\n",
       "      <td>5.955754</td>\n",
       "      <td>0.001484</td>\n",
       "      <td>7.646575</td>\n",
       "    </tr>\n",
       "    <tr>\n",
       "      <th>2022-09-01</th>\n",
       "      <td>-0.000160</td>\n",
       "      <td>0.000694</td>\n",
       "      <td>0.007963</td>\n",
       "      <td>5.963717</td>\n",
       "      <td>0.002178</td>\n",
       "      <td>7.648753</td>\n",
       "    </tr>\n",
       "  </tbody>\n",
       "</table>\n",
       "</div>"
      ],
      "text/plain": [
       "            log CPI_2d  log ZORI_2d  log CPI_1d  log CPI_forecast  \\\n",
       "DATE                                                                \n",
       "2022-06-01   -0.000481    -0.002598    0.008284          5.939385   \n",
       "2022-07-01   -0.000037    -0.001948    0.008247          5.947632   \n",
       "2022-08-01   -0.000124    -0.000375    0.008122          5.955754   \n",
       "2022-09-01   -0.000160     0.000694    0.007963          5.963717   \n",
       "\n",
       "            log ZORI_1d  log ZORI_forecast  \n",
       "DATE                                        \n",
       "2022-06-01     0.003807           7.643231  \n",
       "2022-07-01     0.001859           7.645091  \n",
       "2022-08-01     0.001484           7.646575  \n",
       "2022-09-01     0.002178           7.648753  "
      ]
     },
     "execution_count": 29,
     "metadata": {},
     "output_type": "execute_result"
    }
   ],
   "source": [
    "def invert_transformation(df_train, df_forecast, second_diff=True):\n",
    "    df_fc = df_forecast.copy()\n",
    "    columns = df_train.columns\n",
    "    for col in columns:\n",
    "        if second_diff:\n",
    "            df_fc[str(col) + '_1d'] = (df_train[col].iloc[-1] - df_train[col].iloc[-2]) + df_fc[str(col) + '_2d'].cumsum()\n",
    "        df_fc[str(col) + '_forecast'] = df_train[col].iloc[-1] + df_fc[str(col) + '_1d'].cumsum()\n",
    "    return df_fc\n",
    "\n",
    "df_results = invert_transformation(df_log, df_forecast, second_diff=True)\n",
    "df_results"
   ]
  },
  {
   "cell_type": "markdown",
   "id": "7892f3b4",
   "metadata": {},
   "source": [
    "### Forecast vs Actual (Visualization)\n",
    "We plot the predicted values against the actual logged CPI and ZORI for the last 4 months.\n"
   ]
  },
  {
   "cell_type": "code",
   "execution_count": 30,
   "id": "f533e1a5",
   "metadata": {},
   "outputs": [
    {
     "data": {
      "image/png": "[encoded data removed]",
      "text/plain": [
       "<Figure size 1200x400 with 2 Axes>"
      ]
     },
     "metadata": {},
     "output_type": "display_data"
    }
   ],
   "source": [
    "fig, axes = plt.subplots(nrows=1, ncols=2, figsize=(12, 4))\n",
    "\n",
    "for i, col in enumerate(df_log.columns):\n",
    "    ax = axes[i]\n",
    "    df_results[f'{col}_forecast'].plot(ax=ax, label='Forecast', linestyle='--')\n",
    "    df_log[col].iloc[-n_obs:].plot(ax=ax, label='Actual')\n",
    "    ax.set_title(f'{col}: Forecast vs Actual')\n",
    "    ax.legend()\n",
    "\n",
    "plt.tight_layout()\n",
    "plt.show()"
   ]
  },
  {
   "cell_type": "markdown",
   "id": "09228928",
   "metadata": {},
   "source": [
    "### Forecast Accuracy (RMSE)\n",
    "We calculate RMSE to evaluate how close our forecasts were to the true values.\n"
   ]
  },
  {
   "cell_type": "code",
   "execution_count": 31,
   "id": "69e8413e",
   "metadata": {},
   "outputs": [
    {
     "name": "stdout",
     "output_type": "stream",
     "text": [
      "RMSE for log CPI: 0.0326\n",
      "RMSE for log ZORI: 0.0213\n"
     ]
    }
   ],
   "source": [
    "for col in df_log.columns:\n",
    "    rmse = np.sqrt(mean_squared_error(df_log[col].iloc[-n_obs:], df_results[f'{col}_forecast']))\n",
    "    print(f'RMSE for {col}:', round(rmse, 4))\n"
   ]
  },
  {
   "cell_type": "markdown",
   "id": "edc12401",
   "metadata": {},
   "source": [
    "### VAR Model Summary\n",
    "\n",
    "Our Vector Autoregression (VAR) model aimed to jointly forecast CPI and ZORI using log-transformed and differenced series. After ensuring stationarity with second differencing, we trained the model using optimal lag selection (lag=3), confirmed low autocorrelation using the Durbin-Watson statistic, and visualized our forecast accuracy.\n",
    "\n",
    "The RMSE values for the forecasts were:\n",
    "\n",
    "- **log CPI**: 0.0326  \n",
    "- **log ZORI**: 0.0213  \n",
    "\n",
    "These results indicate that the model was able to track **ZORI** slightly more accurately than **CPI**, likely due to the higher short-term volatility captured in rent data. Overall, this suggests that using multivariate approaches like VAR can enhance predictive power when economic indicators are interrelated.\n"
   ]
  },
  {
   "cell_type": "markdown",
   "id": "ca7881c0",
   "metadata": {},
   "source": [
    "<hr style=\"border: 1px solid #fdb515;\" />\n",
    "\n",
    "### Final Insights\n",
    "\n",
    "After exploring different approaches to forecast inflation, I analyzed how rent trends could enhance CPI predictions through both univariate and multivariate time series models.\n",
    "\n",
    "**ARIMA**\n",
    "\n",
    "I began by applying ARIMA models to forecast CPI using its historical values alone. After testing multiple configurations, ARIMA(2,3,1) yielded the best performance with an RMSE of 3.4 on the test set. This phase helped reinforce my understanding of stationarity, the role of differencing, and how tuning (p, d, q) parameters affects forecast accuracy in non-stationary data. However, the ARIMA model was ultimately limited in its ability to capture broader economic influences, as it only relied on past CPI values without incorporating external predictors like rent trends.\n",
    "\n",
    "**VAR**\n",
    "\n",
    "After completing the univariate modeling, I shifted to a multivariate framework using Vector Autoregression (VAR) to jointly forecast CPI and Zillow’s Observed Rent Index (ZORI). I log-transformed and differenced both series to achieve stationarity, selected the optimal lag length based on AIC and BIC, and verified low autocorrelation using the Durbin-Watson statistic. With a lag order of 3, the VAR model achieved improved RMSE scores — 0.0326 for log CPI and 0.0213 for log ZORI — showing stronger predictive performance than the ARIMA model.\n",
    "\n",
    "Overall, this project highlighted how incorporating additional economic indicators like rent can improve inflation forecasting. It also demonstrated the value of preprocessing, model validation, and multivariate approaches in time series analysis.\n"
   ]
  }
 ],
 "metadata": {
  "kernelspec": {
   "display_name": "Python 3",
   "language": "python",
   "name": "python3"
  },
  "language_info": {
   "codemirror_mode": {
    "name": "ipython",
    "version": 3
   },
   "file_extension": ".py",
   "mimetype": "text/x-python",
   "name": "python",
   "nbconvert_exporter": "python",
   "pygments_lexer": "ipython3",
   "version": "3.13.3"
  },
  "otter": {
   "OK_FORMAT": true,
   "export_pdf_failure_message": "PDF did not generate, please submit screenshots for question 1.1.",
   "require_no_pdf_confirmation": true,
   "tests": {
    "q1_2": {
     "name": "q1_2",
     "points": null,
     "suites": [
      {
       "cases": [
        {
         "code": ">>> assert zillow.shape == (90, 2)\n",
         "hidden": false,
         "locked": false
        },
        {
         "code": ">>> assert np.all(zillow.columns == ['DATE', 'ZORI'])\n",
         "hidden": false,
         "locked": false
        },
        {
         "code": ">>> assert zillow['DATE'].iloc[0] == pd.to_datetime('2015-03-31', format='%Y-%m-%d')\n",
         "hidden": false,
         "locked": false
        },
        {
         "code": ">>> assert np.isclose(zillow['ZORI'].iloc[0], 1370.3018057532663)\n",
         "hidden": false,
         "locked": false
        }
       ],
       "scored": true,
       "setup": "",
       "teardown": "",
       "type": "doctest"
      }
     ]
    },
    "q1_3": {
     "name": "q1_3",
     "points": null,
     "suites": [
      {
       "cases": [
        {
         "code": ">>> assert train.shape == (81, 1)\n",
         "hidden": false,
         "locked": false
        },
        {
         "code": ">>> assert test.shape == (9, 1)\n",
         "hidden": false,
         "locked": false
        },
        {
         "code": ">>> assert np.isclose(train['CPI'].mean(), 320.21020987654316)\n",
         "hidden": false,
         "locked": false
        },
        {
         "code": ">>> assert np.isclose(test['CPI'].mean(), 366.08233333333334)\n",
         "hidden": false,
         "locked": false
        }
       ],
       "scored": true,
       "setup": "",
       "teardown": "",
       "type": "doctest"
      }
     ]
    },
    "q2_1": {
     "name": "q2_1",
     "points": null,
     "suites": [
      {
       "cases": [
        {
         "code": ">>> assert q2_1 == 1 or q2_1 == 2\n",
         "hidden": false,
         "locked": false
        }
       ],
       "scored": true,
       "setup": "",
       "teardown": "",
       "type": "doctest"
      }
     ]
    },
    "q2_3": {
     "name": "q2_3",
     "points": 0,
     "suites": [
      {
       "cases": [
        {
         "code": ">>> assert m * 966984 == 11603808\n",
         "hidden": false,
         "locked": false
        }
       ],
       "scored": true,
       "setup": "",
       "teardown": "",
       "type": "doctest"
      }
     ]
    },
    "q2_4": {
     "name": "q2_4",
     "points": 0,
     "suites": [
      {
       "cases": [
        {
         "code": ">>> assert q2_4 == 1\n",
         "hidden": false,
         "locked": false,
         "success_message": "Correct. Our CPI series is already a seasonally adjusted series!"
        }
       ],
       "scored": true,
       "setup": "",
       "teardown": "",
       "type": "doctest"
      }
     ]
    },
    "q3_1": {
     "name": "q3_1",
     "points": 0,
     "suites": [
      {
       "cases": [
        {
         "code": ">>> assert combined.shape == (90, 4)\n",
         "hidden": false,
         "locked": false
        },
        {
         "code": ">>> assert np.allclose(combined['log CPI'].iloc[1:4:8], 5.649837)\n",
         "hidden": false,
         "locked": false
        },
        {
         "code": ">>> assert np.allclose(combined['log ZORI'].iloc[1:4:8], 7.231266)\n",
         "hidden": false,
         "locked": false
        }
       ],
       "scored": true,
       "setup": "",
       "teardown": "",
       "type": "doctest"
      }
     ]
    },
    "q4": {
     "name": "q4",
     "points": null,
     "suites": [
      {
       "cases": [
        {
         "code": ">>> assert sum([ord(c) for c in codeword]) ^ 966984 == 967510\n",
         "hidden": false,
         "locked": false
        }
       ],
       "scored": true,
       "setup": "",
       "teardown": "",
       "type": "doctest"
      }
     ]
    }
   }
  }
 },
 "nbformat": 4,
 "nbformat_minor": 5
}
